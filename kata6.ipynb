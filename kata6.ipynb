{
 "cells": [
  {
   "cell_type": "markdown",
   "metadata": {},
   "source": [
    "ejercicio 1"
   ]
  },
  {
   "cell_type": "code",
   "execution_count": 16,
   "metadata": {},
   "outputs": [
    {
     "name": "stdout",
     "output_type": "stream",
     "text": [
      "There are 8 planets\n",
      "Pluto is the last planet\n"
     ]
    }
   ],
   "source": [
    "# Creamos la lista planets y la mostramos\n",
    "\n",
    "planets = ['Mercury', 'Venus', 'Earth', 'Mars', 'Jupiter', 'Saturn', 'Uranus', 'Neptune']\n",
    "\n",
    "print('There are', len(planets), 'planets')\n",
    "# Agregamos a plutón y mostramos el último elemento\n",
    "\n",
    "planets.append('Pluto')\n",
    "\n",
    "print(planets[8], 'is the last planet')#-1 es igual 8 por que al ser el ultimo se puede expreser como un numero fuera de la lista"
   ]
  },
  {
   "cell_type": "markdown",
   "metadata": {},
   "source": [
    "Ejercicio 2"
   ]
  },
  {
   "cell_type": "code",
   "execution_count": 11,
   "metadata": {},
   "outputs": [
    {
     "name": "stdout",
     "output_type": "stream",
     "text": [
      "Here are the planets closer than Venus\n",
      "['Mercury']\n",
      "Here are the planets further than Venus\n",
      "['Earth', 'Mars', 'Jupiter', 'Saturn', 'Neptune']\n"
     ]
    }
   ],
   "source": [
    "# Lista de planetas\n",
    "\n",
    "planets = ['Mercury', 'Venus', 'Earth', 'Mars', 'Jupiter', 'Saturn', 'Neptune']\n",
    "# Solicitamos el nombre de un planeta *Pista:  input()*\n",
    "user_planet = input('Please enter the name of the planet (with a capital letter to start)')\n",
    "# Busca el planeta en la lista\n",
    "\n",
    "planet_index = planets.index(user_planet)\n",
    "# Muestra los planetas más cercanos al sol\n",
    "\n",
    "print('Here are the planets closer than ' + user_planet)\n",
    "print(planets[0:planet_index])\n",
    "# Muestra los planetas más lejanos al sol\n",
    "\n",
    "print('Here are the planets further than ' + user_planet)\n",
    "print(planets[planet_index + 1:])"
   ]
  }
 ],
 "metadata": {
  "interpreter": {
   "hash": "f9f68585656d2af418509cfdc3ae64a2df251c855d829aa9c64f1046c3e79900"
  },
  "kernelspec": {
   "display_name": "Python 3.10.2 64-bit",
   "language": "python",
   "name": "python3"
  },
  "language_info": {
   "codemirror_mode": {
    "name": "ipython",
    "version": 3
   },
   "file_extension": ".py",
   "mimetype": "text/x-python",
   "name": "python",
   "nbconvert_exporter": "python",
   "pygments_lexer": "ipython3",
   "version": "3.10.2"
  },
  "orig_nbformat": 4
 },
 "nbformat": 4,
 "nbformat_minor": 2
}
